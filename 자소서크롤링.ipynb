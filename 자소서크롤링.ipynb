{
 "cells": [
  {
   "cell_type": "code",
   "execution_count": 6,
   "metadata": {},
   "outputs": [],
   "source": [
    "# !pip install chromedriver_autoinstaller\n",
    "# !pip install selenium"
   ]
  },
  {
   "cell_type": "code",
   "execution_count": 18,
   "metadata": {},
   "outputs": [],
   "source": [
    "import chromedriver_autoinstaller\n",
    "import time\n",
    "from selenium import webdriver\n",
    "from selenium.webdriver.common.by import By\n",
    "from urllib.request import Request, urlopen\n",
    "from selenium.webdriver.chrome.service import Service\n",
    "from  selenium.webdriver.common.keys import Keys\n",
    "from selenium.webdriver.common.action_chains import ActionChains\n",
    "import urllib.request\n",
    "\n",
    "from bs4 import BeautifulSoup\n",
    "import pandas as pd\n",
    "import os\n",
    "import re\n",
    "import json"
   ]
  },
  {
   "cell_type": "markdown",
   "metadata": {},
   "source": [
    "#만개 동안 돌면서 크롤링 해오기"
   ]
  },
  {
   "cell_type": "code",
   "execution_count": 8,
   "metadata": {},
   "outputs": [],
   "source": [
    "def script_crawling_start():\n",
    "    text_list = []\n",
    "    driver = webdriver.Chrome()\n",
    "    driver.implicitly_wait(3)\n",
    "    idx = 20000\n",
    "    text_container_xpath = '/html/body/div[1]/div[1]/div[4]/div/div[2]/div[1]/div[3]/article/main'\n",
    "    \n",
    "    while True:\n",
    "        try:\n",
    "                url = f'https://linkareer.com/cover-letter/{idx}?page=1&sort=PASSED_AT&tab=all'\n",
    "                driver.get(url)\n",
    "        \n",
    "                \n",
    "                text_container = driver.find_element(By.XPATH, text_container_xpath)\n",
    "                text = text_container.text\n",
    "\n",
    "                text_list.append(text)\n",
    "                i += 1\n",
    "        except:\n",
    "            if idx > 30000:\n",
    "                print(text_list)\n",
    "                break\n",
    "            else:\n",
    "                idx += 1\n",
    "    return text_list"
   ]
  },
  {
   "cell_type": "markdown",
   "metadata": {},
   "source": [
    "# 함수를 실행시켜 리턴받은 리스트를 csv파일로 만들어주기"
   ]
  },
  {
   "cell_type": "code",
   "execution_count": 9,
   "metadata": {},
   "outputs": [],
   "source": [
    "# my_series = pd.Series(script_crawling_start())\n",
    "# my_series.to_csv('./자소서리스트.csv', encoding='utf-8')\n",
    "# read = pd.read_csv('./자소서리스트.csv', encoding='utf-8')\n",
    "# read"
   ]
  },
  {
   "cell_type": "code",
   "execution_count": 11,
   "metadata": {},
   "outputs": [
    {
     "data": {
      "text/html": [
       "<div>\n",
       "<style scoped>\n",
       "    .dataframe tbody tr th:only-of-type {\n",
       "        vertical-align: middle;\n",
       "    }\n",
       "\n",
       "    .dataframe tbody tr th {\n",
       "        vertical-align: top;\n",
       "    }\n",
       "\n",
       "    .dataframe thead th {\n",
       "        text-align: right;\n",
       "    }\n",
       "</style>\n",
       "<table border=\"1\" class=\"dataframe\">\n",
       "  <thead>\n",
       "    <tr style=\"text-align: right;\">\n",
       "      <th></th>\n",
       "      <th>Unnamed: 0</th>\n",
       "      <th>0</th>\n",
       "    </tr>\n",
       "  </thead>\n",
       "  <tbody>\n",
       "    <tr>\n",
       "      <th>0</th>\n",
       "      <td>0</td>\n",
       "      <td>2. 현재 귀하의 가장 부족한 역량은 무엇이며, 역량개발을 위해 어떤 활동과 노력을...</td>\n",
       "    </tr>\n",
       "    <tr>\n",
       "      <th>1</th>\n",
       "      <td>1</td>\n",
       "      <td>1. 삼성전자를 지원한 이유와 입사 후 회사에서 이루고 싶은 꿈\\n\\n삼성의 핵심 ...</td>\n",
       "    </tr>\n",
       "    <tr>\n",
       "      <th>2</th>\n",
       "      <td>2</td>\n",
       "      <td>5. 정직함에 대하여. (경험이 있다면 그 상황에서의 본인의 입장 및 대처 사례)\\...</td>\n",
       "    </tr>\n",
       "    <tr>\n",
       "      <th>3</th>\n",
       "      <td>3</td>\n",
       "      <td>3.최근 대형은행의 합병, 인터넷 은행의 등장 등 국내 은행권 경쟁이 심화되고 금융...</td>\n",
       "    </tr>\n",
       "    <tr>\n",
       "      <th>4</th>\n",
       "      <td>4</td>\n",
       "      <td>(My Story)해당회사 및 직무에 지원하는 동기에 대해 기술해 주십시오.\\n&lt;G...</td>\n",
       "    </tr>\n",
       "    <tr>\n",
       "      <th>...</th>\n",
       "      <td>...</td>\n",
       "      <td>...</td>\n",
       "    </tr>\n",
       "    <tr>\n",
       "      <th>5081</th>\n",
       "      <td>5081</td>\n",
       "      <td>의사소통 과정에서 발생하는 본인의 단점 한 가지를 관련 경험과 함께 기술하여 주십시...</td>\n",
       "    </tr>\n",
       "    <tr>\n",
       "      <th>5082</th>\n",
       "      <td>5082</td>\n",
       "      <td>1. 보라매병원에 지원하게 된 동기 및 입사 후 실천하고자 하는 목표를 자신의 역량...</td>\n",
       "    </tr>\n",
       "    <tr>\n",
       "      <th>5083</th>\n",
       "      <td>5083</td>\n",
       "      <td>1. 우리 공사에 지원하게 된 이유는 무엇인지 기술하고, 본인의 역량 및 강점을 공...</td>\n",
       "    </tr>\n",
       "    <tr>\n",
       "      <th>5084</th>\n",
       "      <td>5084</td>\n",
       "      <td>1. 수산식품청년마케터에 지원한 동기를 서술하십시오. 700 바이트 공모전 수상 경...</td>\n",
       "    </tr>\n",
       "    <tr>\n",
       "      <th>5085</th>\n",
       "      <td>5085</td>\n",
       "      <td>개인소개 및 지원동기 휴먼명조, 13포인트, 줄간격 160% (2페이지 이내 작성)...</td>\n",
       "    </tr>\n",
       "  </tbody>\n",
       "</table>\n",
       "<p>5086 rows × 2 columns</p>\n",
       "</div>"
      ],
      "text/plain": [
       "      Unnamed: 0                                                  0\n",
       "0              0  2. 현재 귀하의 가장 부족한 역량은 무엇이며, 역량개발을 위해 어떤 활동과 노력을...\n",
       "1              1  1. 삼성전자를 지원한 이유와 입사 후 회사에서 이루고 싶은 꿈\\n\\n삼성의 핵심 ...\n",
       "2              2  5. 정직함에 대하여. (경험이 있다면 그 상황에서의 본인의 입장 및 대처 사례)\\...\n",
       "3              3  3.최근 대형은행의 합병, 인터넷 은행의 등장 등 국내 은행권 경쟁이 심화되고 금융...\n",
       "4              4  (My Story)해당회사 및 직무에 지원하는 동기에 대해 기술해 주십시오.\\n<G...\n",
       "...          ...                                                ...\n",
       "5081        5081  의사소통 과정에서 발생하는 본인의 단점 한 가지를 관련 경험과 함께 기술하여 주십시...\n",
       "5082        5082  1. 보라매병원에 지원하게 된 동기 및 입사 후 실천하고자 하는 목표를 자신의 역량...\n",
       "5083        5083  1. 우리 공사에 지원하게 된 이유는 무엇인지 기술하고, 본인의 역량 및 강점을 공...\n",
       "5084        5084  1. 수산식품청년마케터에 지원한 동기를 서술하십시오. 700 바이트 공모전 수상 경...\n",
       "5085        5085  개인소개 및 지원동기 휴먼명조, 13포인트, 줄간격 160% (2페이지 이내 작성)...\n",
       "\n",
       "[5086 rows x 2 columns]"
      ]
     },
     "execution_count": 11,
     "metadata": {},
     "output_type": "execute_result"
    }
   ],
   "source": [
    "read = pd.read_csv('./자소서리스트.csv', encoding='utf-8')\n",
    "read"
   ]
  },
  {
   "cell_type": "code",
   "execution_count": 19,
   "metadata": {},
   "outputs": [
    {
     "name": "stdout",
     "output_type": "stream",
     "text": [
      "                                         Processed_Text\n",
      "0     2 현재 귀하의 가장 부족한 역량은 무엇이며 역량개발을 위해 어떤 활동과 노력을 하...\n",
      "1     1 삼성전자를 지원한 이유와 입사 후 회사에서 이루고 싶은 꿈 삼성의 핵심 가치인 ...\n",
      "2     5 정직함에 대하여 경험이 있다면 그 상황에서의 본인의 입장 및 대처 사례 양심의 ...\n",
      "3     3 최근 대형은행의 합병 인터넷 은행의 등장 등 국내 은행권 경쟁이 심화되고 금융시...\n",
      "4     My Story 해당회사 및 직무에 지원하는 동기에 대해 기술해 주십시오 Guide...\n",
      "...                                                 ...\n",
      "5077  의사소통 과정에서 발생하는 본인의 단점 한 가지를 관련 경험과 함께 기술하여 주십시...\n",
      "5078  1 보라매병원에 지원하게 된 동기 및 입사 후 실천하고자 하는 목표를 자신의 역량과...\n",
      "5079  1 우리 공사에 지원하게 된 이유는 무엇인지 기술하고 본인의 역량 및 강점을 공사의...\n",
      "5080  1 수산식품청년마케터에 지원한 동기를 서술하십시오 700 바이트 공모전 수상 경험으...\n",
      "5081  개인소개 및 지원동기 휴먼명조 13포인트 줄간격 160 2페이지 이내 작성 중국어 ...\n",
      "\n",
      "[5082 rows x 1 columns]\n"
     ]
    }
   ],
   "source": [
    "# 전처리\n",
    "read = read.dropna()\n",
    "\n",
    "def remove_hanja(text):\n",
    "    # 한글, 영어, 숫자만 추출하는 정규표현식\n",
    "    hangul_english_number_pattern = re.compile(r'[ㄱ-ㅎㅏ-ㅣ가-힣a-zA-Z0-9]+')\n",
    "    return \" \".join(hangul_english_number_pattern.findall(text))\n",
    "\n",
    "# '자소서' 컬럼의 값들 추출\n",
    "resumes = read['0']\n",
    "\n",
    "# 각 텍스트를 처리한 결과를 리스트로 저장\n",
    "processed_texts = [remove_hanja(text) for text in resumes]\n",
    "\n",
    "# 새로운 DataFrame 생성\n",
    "read_df = pd.DataFrame({'Processed_Text': processed_texts})\n",
    "print(read_df)"
   ]
  },
  {
   "cell_type": "code",
   "execution_count": 20,
   "metadata": {},
   "outputs": [
    {
     "data": {
      "text/plain": [
       "'2 현재 귀하의 가장 부족한 역량은 무엇이며 역량개발을 위해 어떤 활동과 노력을 하고 있는지 기술하시오 필수입력사항 최대 600 최소 100 모두의 소리를 듣겠습니다 음식점에서 아르바이트를 할 당시 중국인 손님을 상대해야 하는일이 생겼습니다 기초 중국어만 가능했던 저는 크게 당황했고 결국영어를 사용해 손님을 상대했습니다 중국인 방문객의 비율이 꾸준히 증가하는 것을 보며 중국어 학습의 필요성을 절감했습니다 부족한 점을 보완하기 위해 저는 중국어 자격증을 취득하는것을 목표로 공부를 시작했습니다 고등학교 시절 배웠던 기본적인 중국어 지식을 바탕으로 학원 수업을빠르게 이해했으며 그 결과 작년 HSK5급에 합격할 수 있었습니다 또한 중국 진출을 꾀하는 기업의 수가 많아 중국어 능력이큰 도움이 될 것이라 판단한 저는 지난 7월 한국외대의외국어연수평가원 과목 중 중국어 과정을 신청했습니다 아침부터 오후까지 중국어에 몰두했으며 2주 동안의 수업과 최종 평가를 통해 저는 최고 성적으로 과정을 수료했습니다 영업관리는 고객 가장 가까이에서 위치한 직무로 지속적인 소통을통해 고객의 목소리에 귀 기울여야 합니다 아직 부족하다고 느껴지는 중국어 회화 능력을 연마해 국내 소비자뿐 아니라 매해 증가하는 중국인 소비자와도 원활한 커뮤니케이션을 이어가겠습니다'"
      ]
     },
     "execution_count": 20,
     "metadata": {},
     "output_type": "execute_result"
    }
   ],
   "source": [
    "read_df['Processed_Text'][0]"
   ]
  },
  {
   "cell_type": "code",
   "execution_count": 14,
   "metadata": {},
   "outputs": [],
   "source": [
    "service = Service()    \n",
    "driver = webdriver.Chrome()\n",
    "driver.implicitly_wait(1)\n",
    "url = 'https://www.saramin.co.kr/zf_user/'\n",
    "driver.get(url)"
   ]
  },
  {
   "cell_type": "markdown",
   "metadata": {},
   "source": [
    "# 로그인"
   ]
  },
  {
   "cell_type": "code",
   "execution_count": 15,
   "metadata": {},
   "outputs": [],
   "source": [
    "login_XPATH = '/html/body/header/div[1]/div[2]/div[1]/a[1]'\n",
    "driver.find_element(By.XPATH, login_XPATH).click()\n",
    "\n",
    "id = 'auswjqtmxjel'\n",
    "pw = 'auswjq2@'\n",
    "\n",
    "id_xpath = '/html/body/div[3]/div/div/div/div/form/div/div/div[2]/div[1]/input'\n",
    "pw_xpath = '/html/body/div[3]/div/div/div/div/form/div/div/div[2]/div[2]/input'\n",
    "\n",
    "id_box = driver.find_element(By.XPATH, id_xpath)\n",
    "pw_box = driver.find_element(By.XPATH, pw_xpath)\n",
    "\n",
    "id_box.send_keys(id)\n",
    "pw_box.send_keys(pw)\n",
    "\n",
    "login_btn_xpath = '/html/body/div[3]/div[1]/div/div/div/form/div/div/div[2]/button'\n",
    "driver.find_element(By.XPATH, login_btn_xpath).click()"
   ]
  },
  {
   "cell_type": "markdown",
   "metadata": {},
   "source": [
    "# 이동"
   ]
  },
  {
   "cell_type": "code",
   "execution_count": 16,
   "metadata": {},
   "outputs": [],
   "source": [
    "question_list = []\n",
    "strong_text_list = []\n",
    "def Coverletter(list):\n",
    "    global question_list, strong_text_list\n",
    "\n",
    "    for i in range(len(text)):\n",
    "        ai_url = 'https://www.saramin.co.kr/zf_user/tools/ai-coaching-service'\n",
    "        driver.get(ai_url)\n",
    "\n",
    "        text_area_path = '/html/body/div[3]/div[1]/div/div[3]/div/div[1]/div[1]/textarea'\n",
    "        text_area = driver.find_element(By.XPATH, text_area_path)\n",
    "\n",
    "        text_area.send_keys(text[i])\n",
    "        time.sleep(2)\n",
    "\n",
    "        next_button_path = '/html/body/div[3]/div[1]/div/div[3]/div/div[3]/button[2]'\n",
    "        driver.find_element(By.XPATH, next_button_path).click()\n",
    "        \n",
    "        driver.implicitly_wait(15)\n",
    "        \n",
    "        #  질문 받아오는 부분\n",
    "        q_list = '/html/body/div[3]/div[1]/div/div[3]/div[2]/div[1]/div[2]/ul'\n",
    "        q_list = driver.find_element(By.XPATH, q_list)\n",
    "        time.sleep(1)\n",
    "        q_list = q_list.text.split('\\n')\n",
    "        \n",
    "        for k in q_list:\n",
    "            question_list.append(k)\n",
    "        \n",
    "        \n",
    "        # 파란글씨 가져와서 리스트로 만들기\n",
    "        s_text_xpath = '/html/body/div[3]/div[1]/div/div[3]/div[2]/div[1]/div[1]/div[2]/div/strong'\n",
    "        try:\n",
    "            j = 1\n",
    "            while True:\n",
    "                q_list_click_xpath = f'/html/body/div[3]/div[1]/div/div[3]/div[2]/div[1]/div[2]/ul/li[{j}]/button/span'\n",
    "                q_list_click = driver.find_element(By.XPATH, q_list_click_xpath)\n",
    "                q_list_click.click()\n",
    "                time.sleep(1)\n",
    "                strong_text = driver.find_element(By.XPATH, s_text_xpath).text\n",
    "                strong_text_list.append(strong_text)\n",
    "                j += 1\n",
    "        except:\n",
    "            pass\n",
    "        print(f'파란글씨: {strong_text_list}\\n질문: {question_list}')"
   ]
  },
  {
   "cell_type": "markdown",
   "metadata": {},
   "source": [
    "# 제이슨"
   ]
  },
  {
   "cell_type": "code",
   "execution_count": 21,
   "metadata": {},
   "outputs": [
    {
     "data": {
      "text/html": [
       "<div>\n",
       "<style scoped>\n",
       "    .dataframe tbody tr th:only-of-type {\n",
       "        vertical-align: middle;\n",
       "    }\n",
       "\n",
       "    .dataframe tbody tr th {\n",
       "        vertical-align: top;\n",
       "    }\n",
       "\n",
       "    .dataframe thead th {\n",
       "        text-align: right;\n",
       "    }\n",
       "</style>\n",
       "<table border=\"1\" class=\"dataframe\">\n",
       "  <thead>\n",
       "    <tr style=\"text-align: right;\">\n",
       "      <th></th>\n",
       "      <th>context</th>\n",
       "      <th>text</th>\n",
       "    </tr>\n",
       "  </thead>\n",
       "  <tbody>\n",
       "    <tr>\n",
       "      <th>0</th>\n",
       "      <td>2 현재 귀하의 가장 부족한 역량은 무엇이며 역량개발을 위해 어떤 활동과 노력을 하...</td>\n",
       "      <td>[]</td>\n",
       "    </tr>\n",
       "  </tbody>\n",
       "</table>\n",
       "</div>"
      ],
      "text/plain": [
       "                                             context text\n",
       "0  2 현재 귀하의 가장 부족한 역량은 무엇이며 역량개발을 위해 어떤 활동과 노력을 하...   []"
      ]
     },
     "execution_count": 21,
     "metadata": {},
     "output_type": "execute_result"
    }
   ],
   "source": [
    "resume_df = pd.DataFrame({'context':read_df['Processed_Text'][0], 'text': [strong_text_list[0:]]})\n",
    "resume_df"
   ]
  },
  {
   "cell_type": "code",
   "execution_count": null,
   "metadata": {},
   "outputs": [],
   "source": [
    "# CSV file 출력\n",
    "resume_df.to_csv('resume_df.csv', index=False, encoding='euc-kr')"
   ]
  },
  {
   "cell_type": "markdown",
   "metadata": {},
   "source": [
    "# json으로 만들기"
   ]
  },
  {
   "cell_type": "code",
   "execution_count": null,
   "metadata": {},
   "outputs": [],
   "source": [
    "# json 데이터를 형식에 맞게 조정\n",
    "\n",
    "import json\n",
    "import pandas as pd\n",
    "\n",
    "# Read the JSON data using pandas\n",
    "data_df = pd.read_json('./example.json', encoding='utf-8')\n",
    "\n",
    "# Convert data_df to the desired JSON format\n",
    "json_data = {\n",
    "    \"version\": \"KorQuAD_v1.0_dev\",\n",
    "    \"data\": []\n",
    "}\n",
    "\n",
    "for index, row in resume_df.iterrows():\n",
    "    context = row[\"context\"]\n",
    "    text = row[\"text\"]\n",
    "\n",
    "    # Since 'text' is already a list in the DataFrame, no need to use eval()\n",
    "\n",
    "    # Append the data to the 'json_data' dictionary\n",
    "    json_data[\"data\"].append({\n",
    "        \"paragraphs\": [\n",
    "            {\n",
    "                \"qas\": [\n",
    "                    {\n",
    "                        \"answers\": [\n",
    "                            {\n",
    "                                \"text\": text,\n",
    "                                \"answer_start\": 0\n",
    "                            }\n",
    "                        ],\n",
    "                        \"id\": f\"qas-{index}\",\n",
    "                        \"question\": \"question\"  # Replace this with your actual question\n",
    "                    }\n",
    "                ],\n",
    "                \"context\": context\n",
    "            }\n",
    "        ],\n",
    "        \"title\": \"\"\n",
    "    })\n",
    "\n",
    "# Save the JSON data to a file\n",
    "with open('resume_df.json', 'w', encoding='utf-8') as f:\n",
    "    json.dump(json_data, f, ensure_ascii=False, indent=2)"
   ]
  }
 ],
 "metadata": {
  "kernelspec": {
   "display_name": "Python 3.8.6 64-bit",
   "language": "python",
   "name": "python3"
  },
  "language_info": {
   "codemirror_mode": {
    "name": "ipython",
    "version": 3
   },
   "file_extension": ".py",
   "mimetype": "text/x-python",
   "name": "python",
   "nbconvert_exporter": "python",
   "pygments_lexer": "ipython3",
   "version": "3.8.6"
  },
  "orig_nbformat": 4,
  "vscode": {
   "interpreter": {
    "hash": "1ad15aa8ed8ab51ab37723607c4a98d0e69ad4d63ac97b771008925c12a1de74"
   }
  }
 },
 "nbformat": 4,
 "nbformat_minor": 2
}
